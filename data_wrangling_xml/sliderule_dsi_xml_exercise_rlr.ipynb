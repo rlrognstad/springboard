{
 "cells": [
  {
   "cell_type": "markdown",
   "metadata": {},
   "source": [
    "# XML example and exercise\n",
    "****\n",
    "+ study examples of accessing nodes in XML tree structure  \n",
    "+ work on exercise to be completed and submitted\n",
    "****\n",
    "+ reference: https://docs.python.org/2.7/library/xml.etree.elementtree.html\n",
    "+ data source: http://www.dbis.informatik.uni-goettingen.de/Mondial\n",
    "****"
   ]
  },
  {
   "cell_type": "code",
   "execution_count": 14,
   "metadata": {
    "collapsed": true
   },
   "outputs": [],
   "source": [
    "from xml.etree import ElementTree as ET\n",
    "\n",
    "import pandas as pd\n",
    "import numpy as np"
   ]
  },
  {
   "cell_type": "markdown",
   "metadata": {},
   "source": [
    "## XML example\n",
    "\n",
    "+ for details about tree traversal and iterators, see https://docs.python.org/2.7/library/xml.etree.elementtree.html"
   ]
  },
  {
   "cell_type": "code",
   "execution_count": 15,
   "metadata": {
    "collapsed": true
   },
   "outputs": [],
   "source": [
    "document_tree = ET.parse( './data/mondial_database_less.xml' )"
   ]
  },
  {
   "cell_type": "code",
   "execution_count": 28,
   "metadata": {
    "collapsed": false
   },
   "outputs": [
    {
     "name": "stdout",
     "output_type": "stream",
     "text": [
      "Albania\n",
      "Greece\n",
      "Macedonia\n",
      "Serbia\n",
      "Montenegro\n",
      "Kosovo\n",
      "Andorra\n"
     ]
    }
   ],
   "source": [
    "# print names of all countries\n",
    "for child in document_tree.getroot():\n",
    "    print (child.find('name').text)\n",
    "    "
   ]
  },
  {
   "cell_type": "code",
   "execution_count": 32,
   "metadata": {
    "collapsed": false
   },
   "outputs": [
    {
     "name": "stdout",
     "output_type": "stream",
     "text": [
      "* Albania:\n",
      "Tirana, Shkodër, Durrës, Vlorë, Elbasan, Korçë\n",
      "* Greece:\n",
      "Komotini, Kavala, Athina, Peiraias, Peristeri, Acharnes, Patra, Kozani, Kerkyra, Ioannina, Thessaloniki, Iraklio, Chania, Ermoupoli, Rhodes, Tripoli, Lamia, Chalkida, Larissa, Volos, Mytilini, Karyes\n",
      "* Macedonia:\n",
      "Skopje, Kumanovo\n",
      "* Serbia:\n",
      "Beograd, Novi Sad, Niš\n",
      "* Montenegro:\n",
      "Podgorica\n",
      "* Kosovo:\n",
      "Prishtine\n",
      "* Andorra:\n",
      "Andorra la Vella\n"
     ]
    }
   ],
   "source": [
    "# print names of all countries and their cities\n",
    "for element in document_tree.iterfind('country'):\n",
    "    print ('* ' + element.find('name').text + ':'),\n",
    "    capitals_string = ''\n",
    "    for subelement in element.getiterator('city'):\n",
    "        capitals_string += subelement.find('name').text + ', '\n",
    "    print (capitals_string[:-2])"
   ]
  },
  {
   "cell_type": "markdown",
   "metadata": {},
   "source": [
    "****\n",
    "## XML exercise\n",
    "\n",
    "Using data in 'data/mondial_database.xml', the examples above, and refering to https://docs.python.org/2.7/library/xml.etree.elementtree.html, find\n",
    "\n",
    "1. 10 countries with the lowest infant mortality rates\n",
    "2. 10 cities with the largest population\n",
    "3. 10 ethnic groups with the largest overall populations (sum of best/latest estimates over all countries)\n",
    "4. name and country of a) longest river, b) largest lake and c) airport at highest elevation"
   ]
  },
  {
   "cell_type": "code",
   "execution_count": 18,
   "metadata": {
    "collapsed": false
   },
   "outputs": [
    {
     "data": {
      "text/plain": [
       "<Element 'mondial' at 0x7f670801bbd8>"
      ]
     },
     "execution_count": 18,
     "metadata": {},
     "output_type": "execute_result"
    }
   ],
   "source": [
    "document = ET.parse( './data/mondial_database.xml' )\n",
    "\n"
   ]
  },
  {
   "cell_type": "markdown",
   "metadata": {},
   "source": [
    "### Question 1"
   ]
  },
  {
   "cell_type": "code",
   "execution_count": 77,
   "metadata": {
    "collapsed": false
   },
   "outputs": [
    {
     "data": {
      "text/html": [
       "<div>\n",
       "<table border=\"1\" class=\"dataframe\">\n",
       "  <thead>\n",
       "    <tr style=\"text-align: right;\">\n",
       "      <th></th>\n",
       "      <th>country</th>\n",
       "      <th>infant_mortality_rate</th>\n",
       "    </tr>\n",
       "  </thead>\n",
       "  <tbody>\n",
       "    <tr>\n",
       "      <th>36</th>\n",
       "      <td>Monaco</td>\n",
       "      <td>1.81</td>\n",
       "    </tr>\n",
       "    <tr>\n",
       "      <th>90</th>\n",
       "      <td>Japan</td>\n",
       "      <td>2.13</td>\n",
       "    </tr>\n",
       "    <tr>\n",
       "      <th>109</th>\n",
       "      <td>Bermuda</td>\n",
       "      <td>2.48</td>\n",
       "    </tr>\n",
       "    <tr>\n",
       "      <th>34</th>\n",
       "      <td>Norway</td>\n",
       "      <td>2.48</td>\n",
       "    </tr>\n",
       "    <tr>\n",
       "      <th>98</th>\n",
       "      <td>Singapore</td>\n",
       "      <td>2.53</td>\n",
       "    </tr>\n",
       "    <tr>\n",
       "      <th>35</th>\n",
       "      <td>Sweden</td>\n",
       "      <td>2.60</td>\n",
       "    </tr>\n",
       "    <tr>\n",
       "      <th>8</th>\n",
       "      <td>Czech Republic</td>\n",
       "      <td>2.63</td>\n",
       "    </tr>\n",
       "    <tr>\n",
       "      <th>72</th>\n",
       "      <td>Hong Kong</td>\n",
       "      <td>2.73</td>\n",
       "    </tr>\n",
       "    <tr>\n",
       "      <th>73</th>\n",
       "      <td>Macao</td>\n",
       "      <td>3.13</td>\n",
       "    </tr>\n",
       "    <tr>\n",
       "      <th>39</th>\n",
       "      <td>Iceland</td>\n",
       "      <td>3.15</td>\n",
       "    </tr>\n",
       "  </tbody>\n",
       "</table>\n",
       "</div>"
      ],
      "text/plain": [
       "            country  infant_mortality_rate\n",
       "36           Monaco                   1.81\n",
       "90            Japan                   2.13\n",
       "109         Bermuda                   2.48\n",
       "34           Norway                   2.48\n",
       "98        Singapore                   2.53\n",
       "35           Sweden                   2.60\n",
       "8    Czech Republic                   2.63\n",
       "72        Hong Kong                   2.73\n",
       "73            Macao                   3.13\n",
       "39          Iceland                   3.15"
      ]
     },
     "execution_count": 77,
     "metadata": {},
     "output_type": "execute_result"
    }
   ],
   "source": [
    "#empty list\n",
    "cr = []\n",
    "#loop over countries, leave out missing data\n",
    "for co in document.iterfind('country'):    \n",
    "    if co.find('infant_mortality') is not None:\n",
    "        im = co.find('infant_mortality').text\n",
    "        co_name = co.find('name').text\n",
    "        cr.append([co_name, float(im)])\n",
    "        \n",
    "#convert to data frame and sort, print top ten\n",
    "cr_df = pd.DataFrame(cr, columns = ['country', 'infant_mortality_rate'])\n",
    "                          \n",
    "cr_df.sort_values('infant_mortality_rate').head(10)\n"
   ]
  },
  {
   "cell_type": "markdown",
   "metadata": {},
   "source": [
    "### Question 2"
   ]
  },
  {
   "cell_type": "code",
   "execution_count": 85,
   "metadata": {
    "collapsed": false
   },
   "outputs": [
    {
     "data": {
      "text/html": [
       "<div>\n",
       "<table border=\"1\" class=\"dataframe\">\n",
       "  <thead>\n",
       "    <tr style=\"text-align: right;\">\n",
       "      <th></th>\n",
       "      <th>country</th>\n",
       "      <th>city</th>\n",
       "      <th>population</th>\n",
       "    </tr>\n",
       "  </thead>\n",
       "  <tbody>\n",
       "    <tr>\n",
       "      <th>176</th>\n",
       "      <td>Germany</td>\n",
       "      <td>Cottbus</td>\n",
       "      <td>99984</td>\n",
       "    </tr>\n",
       "    <tr>\n",
       "      <th>519</th>\n",
       "      <td>Russia</td>\n",
       "      <td>Perm</td>\n",
       "      <td>999157</td>\n",
       "    </tr>\n",
       "    <tr>\n",
       "      <th>173</th>\n",
       "      <td>Germany</td>\n",
       "      <td>Erlangen</td>\n",
       "      <td>99808</td>\n",
       "    </tr>\n",
       "    <tr>\n",
       "      <th>2752</th>\n",
       "      <td>Algeria</td>\n",
       "      <td>Laghouat</td>\n",
       "      <td>99536</td>\n",
       "    </tr>\n",
       "    <tr>\n",
       "      <th>2461</th>\n",
       "      <td>Brazil</td>\n",
       "      <td>Alagoinhas</td>\n",
       "      <td>99508</td>\n",
       "    </tr>\n",
       "    <tr>\n",
       "      <th>3035</th>\n",
       "      <td>Mozambique</td>\n",
       "      <td>Xai-Xai</td>\n",
       "      <td>99442</td>\n",
       "    </tr>\n",
       "    <tr>\n",
       "      <th>2539</th>\n",
       "      <td>Brazil</td>\n",
       "      <td>Camaragibe</td>\n",
       "      <td>99407</td>\n",
       "    </tr>\n",
       "    <tr>\n",
       "      <th>2857</th>\n",
       "      <td>Nigeria</td>\n",
       "      <td>Kaduna</td>\n",
       "      <td>993642</td>\n",
       "    </tr>\n",
       "    <tr>\n",
       "      <th>56</th>\n",
       "      <td>France</td>\n",
       "      <td>Nancy</td>\n",
       "      <td>99351</td>\n",
       "    </tr>\n",
       "    <tr>\n",
       "      <th>486</th>\n",
       "      <td>Russia</td>\n",
       "      <td>Kazan</td>\n",
       "      <td>992675</td>\n",
       "    </tr>\n",
       "  </tbody>\n",
       "</table>\n",
       "</div>"
      ],
      "text/plain": [
       "         country        city population\n",
       "176      Germany     Cottbus      99984\n",
       "519       Russia        Perm     999157\n",
       "173      Germany    Erlangen      99808\n",
       "2752     Algeria    Laghouat      99536\n",
       "2461      Brazil  Alagoinhas      99508\n",
       "3035  Mozambique     Xai-Xai      99442\n",
       "2539      Brazil  Camaragibe      99407\n",
       "2857     Nigeria      Kaduna     993642\n",
       "56        France       Nancy      99351\n",
       "486       Russia       Kazan     992675"
      ]
     },
     "execution_count": 85,
     "metadata": {},
     "output_type": "execute_result"
    }
   ],
   "source": [
    "#create empty list \n",
    "pop = []\n",
    "#loop over countries, leave out missing data\n",
    "#have to do contries first, starting with cities does not work\n",
    "for co in document.iterfind('country'): \n",
    "    co_name = co.find('name').text\n",
    "    for cy in co.getiterator('city'):\n",
    "        city = cy.find('name').text\n",
    "        # exclude those that have no data for city population\n",
    "        if cy.find('population') is not None:\n",
    "            pop1 = cy.find('population').text\n",
    "            pop.append([co_name, city, float(pop1)])\n",
    "# convert to dataframe\n",
    "city_df = pd.DataFrame(city_pop, columns=['country', 'city', 'population'])\n",
    "# sort descending by city population and print\n",
    "city_df.sort_values('population', ascending=False).head(10)"
   ]
  },
  {
   "cell_type": "markdown",
   "metadata": {},
   "source": [
    "### Question 3"
   ]
  },
  {
   "cell_type": "code",
   "execution_count": 123,
   "metadata": {
    "collapsed": false
   },
   "outputs": [
    {
     "data": {
      "text/html": [
       "<div>\n",
       "<table border=\"1\" class=\"dataframe\">\n",
       "  <thead>\n",
       "    <tr style=\"text-align: right;\">\n",
       "      <th></th>\n",
       "      <th>eth_pop</th>\n",
       "    </tr>\n",
       "    <tr>\n",
       "      <th>eth_group</th>\n",
       "      <th></th>\n",
       "    </tr>\n",
       "  </thead>\n",
       "  <tbody>\n",
       "    <tr>\n",
       "      <th>Han Chinese</th>\n",
       "      <td>497555113</td>\n",
       "    </tr>\n",
       "    <tr>\n",
       "      <th>European</th>\n",
       "      <td>192865792</td>\n",
       "    </tr>\n",
       "    <tr>\n",
       "      <th>Indo-Aryan</th>\n",
       "      <td>171645355</td>\n",
       "    </tr>\n",
       "    <tr>\n",
       "      <th>Russian</th>\n",
       "      <td>92758431</td>\n",
       "    </tr>\n",
       "    <tr>\n",
       "      <th>African</th>\n",
       "      <td>86329356</td>\n",
       "    </tr>\n",
       "    <tr>\n",
       "      <th>Japanese</th>\n",
       "      <td>81706273</td>\n",
       "    </tr>\n",
       "    <tr>\n",
       "      <th>German</th>\n",
       "      <td>66232183</td>\n",
       "    </tr>\n",
       "    <tr>\n",
       "      <th>Dravidian</th>\n",
       "      <td>59599081</td>\n",
       "    </tr>\n",
       "    <tr>\n",
       "      <th>English</th>\n",
       "      <td>42314986</td>\n",
       "    </tr>\n",
       "    <tr>\n",
       "      <th>Mestizo</th>\n",
       "      <td>35542318</td>\n",
       "    </tr>\n",
       "  </tbody>\n",
       "</table>\n",
       "</div>"
      ],
      "text/plain": [
       "               eth_pop\n",
       "eth_group             \n",
       "Han Chinese  497555113\n",
       "European     192865792\n",
       "Indo-Aryan   171645355\n",
       "Russian       92758431\n",
       "African       86329356\n",
       "Japanese      81706273\n",
       "German        66232183\n",
       "Dravidian     59599081\n",
       "English       42314986\n",
       "Mestizo       35542318"
      ]
     },
     "execution_count": 123,
     "metadata": {},
     "output_type": "execute_result"
    }
   ],
   "source": [
    "#empty list\n",
    "eth = []\n",
    "#extract data and add to list\n",
    "for co in document.iterfind('country'):\n",
    "    co_name = co.find('name').text\n",
    "    for egroup in co.iterfind('ethnicgroup'):\n",
    "        co_pop = co.find('population').text\n",
    "        ethnic_group = egroup.text\n",
    "        eth_percent = egroup.attrib['percentage']\n",
    "        eth.append([co_name, ethnic_group, int(co_pop), float(eth_percent)])\n",
    "\n",
    "#convert list to dataframe\n",
    "eth_df = pd.DataFrame(eth, columns = ['country', 'eth_group', 'co_pop', 'eth_percent'])\n",
    "\n",
    "#multiply country population by percentage for each ethnic group\n",
    "eth_pop = pd.Series(((eth_df.eth_percent/100) * eth_df.co_pop).astype('int'))\n",
    "eth_df = eth_df.assign(eth_pop = eth_pop.values)\n",
    "\n",
    "#remove unneeded columns\n",
    "del eth_df['co_pop']\n",
    "del eth_df['eth_percent']\n",
    "\n",
    "#summarize, sort, and print top ten\n",
    "eth_df.groupby('eth_group').sum().sort_values('eth_pop',ascending = False).head(10)\n"
   ]
  },
  {
   "cell_type": "markdown",
   "metadata": {},
   "source": [
    "### Question 4"
   ]
  },
  {
   "cell_type": "code",
   "execution_count": 153,
   "metadata": {
    "collapsed": false
   },
   "outputs": [
    {
     "data": {
      "text/html": [
       "<div>\n",
       "<table border=\"1\" class=\"dataframe\">\n",
       "  <thead>\n",
       "    <tr style=\"text-align: right;\">\n",
       "      <th></th>\n",
       "      <th>river</th>\n",
       "      <th>country</th>\n",
       "      <th>length</th>\n",
       "    </tr>\n",
       "  </thead>\n",
       "  <tbody>\n",
       "    <tr>\n",
       "      <th>174</th>\n",
       "      <td>Amazonas</td>\n",
       "      <td>CO BR PE</td>\n",
       "      <td>6448.0</td>\n",
       "    </tr>\n",
       "  </tbody>\n",
       "</table>\n",
       "</div>"
      ],
      "text/plain": [
       "        river   country  length\n",
       "174  Amazonas  CO BR PE  6448.0"
      ]
     },
     "execution_count": 153,
     "metadata": {},
     "output_type": "execute_result"
    }
   ],
   "source": [
    "#longest river\n",
    "\n",
    "#empty list to store data\n",
    "riv_max = []\n",
    "for ri in document.iterfind('river'):\n",
    "    if ri.find('length') is not None and ri.find('length').text is not None: #missing values generate error\n",
    "        river = ri.find('name').text\n",
    "        length = ri.find('length').text\n",
    "        co_name = ri.attrib['country']\n",
    "        riv_max.append([river, co_name, float(length)])\n",
    "\n",
    "#convert output to datafram\n",
    "riv_df = pd.DataFrame(riv_max, columns = ['river', 'country', 'length'])\n",
    "\n",
    "#sort and print max\n",
    "riv_df.sort_values('length', ascending=False).head(1)\n",
    "\n",
    "\n"
   ]
  },
  {
   "cell_type": "code",
   "execution_count": 154,
   "metadata": {
    "collapsed": false
   },
   "outputs": [
    {
     "data": {
      "text/html": [
       "<div>\n",
       "<table border=\"1\" class=\"dataframe\">\n",
       "  <thead>\n",
       "    <tr style=\"text-align: right;\">\n",
       "      <th></th>\n",
       "      <th>lake</th>\n",
       "      <th>country</th>\n",
       "      <th>area</th>\n",
       "    </tr>\n",
       "  </thead>\n",
       "  <tbody>\n",
       "    <tr>\n",
       "      <th>54</th>\n",
       "      <td>Caspian Sea</td>\n",
       "      <td>R AZ KAZ IR TM</td>\n",
       "      <td>386400.0</td>\n",
       "    </tr>\n",
       "  </tbody>\n",
       "</table>\n",
       "</div>"
      ],
      "text/plain": [
       "           lake         country      area\n",
       "54  Caspian Sea  R AZ KAZ IR TM  386400.0"
      ]
     },
     "execution_count": 154,
     "metadata": {},
     "output_type": "execute_result"
    }
   ],
   "source": [
    "#largest lake\n",
    "\n",
    "#empty list to store data\n",
    "lake_max = []\n",
    "for la in document.iterfind('lake'):\n",
    "    if la.find('area') is not None and la.find('area').text is not None: #missing values generate error\n",
    "        lake = la.find('name').text\n",
    "        area = la.find('area').text\n",
    "        co_name = la.attrib['country']\n",
    "        lake_max.append([lake, co_name, float(area)])\n",
    "\n",
    "#convert output to datafram\n",
    "lake_df = pd.DataFrame(lake_max, columns = ['lake', 'country', 'area'])\n",
    "\n",
    "#sort and print max\n",
    "lake_df.sort_values('area', ascending=False).head(1)\n",
    "\n",
    "\n"
   ]
  },
  {
   "cell_type": "code",
   "execution_count": 155,
   "metadata": {
    "collapsed": false
   },
   "outputs": [
    {
     "data": {
      "text/html": [
       "<div>\n",
       "<table border=\"1\" class=\"dataframe\">\n",
       "  <thead>\n",
       "    <tr style=\"text-align: right;\">\n",
       "      <th></th>\n",
       "      <th>airport</th>\n",
       "      <th>country</th>\n",
       "      <th>elevation</th>\n",
       "    </tr>\n",
       "  </thead>\n",
       "  <tbody>\n",
       "    <tr>\n",
       "      <th>80</th>\n",
       "      <td>El Alto Intl</td>\n",
       "      <td>BOL</td>\n",
       "      <td>4063.0</td>\n",
       "    </tr>\n",
       "  </tbody>\n",
       "</table>\n",
       "</div>"
      ],
      "text/plain": [
       "         airport country  elevation\n",
       "80  El Alto Intl     BOL     4063.0"
      ]
     },
     "execution_count": 155,
     "metadata": {},
     "output_type": "execute_result"
    }
   ],
   "source": [
    "#highest airport\n",
    "\n",
    "#empty list to store data\n",
    "air_max = []\n",
    "for air in document.iterfind('airport'):\n",
    "    if air.find('elevation') is not None and air.find('elevation').text is not None: #missing values generate error\n",
    "        airport = air.find('name').text\n",
    "        elevation = air.find('elevation').text\n",
    "        co_name = air.attrib['country']\n",
    "        air_max.append([airport, co_name, float(elevation)])\n",
    "                        \n",
    "#convert output to datafram\n",
    "air_df = pd.DataFrame(air_max, columns = ['airport', 'country', 'elevation'])\n",
    "\n",
    "#sort and print max\n",
    "air_df.sort_values('elevation', ascending=False).head(1)\n",
    "\n"
   ]
  },
  {
   "cell_type": "code",
   "execution_count": null,
   "metadata": {
    "collapsed": true
   },
   "outputs": [],
   "source": []
  },
  {
   "cell_type": "code",
   "execution_count": null,
   "metadata": {
    "collapsed": true
   },
   "outputs": [],
   "source": []
  }
 ],
 "metadata": {
  "kernelspec": {
   "display_name": "Python 3",
   "language": "python",
   "name": "python3"
  },
  "language_info": {
   "codemirror_mode": {
    "name": "ipython",
    "version": 3
   },
   "file_extension": ".py",
   "mimetype": "text/x-python",
   "name": "python",
   "nbconvert_exporter": "python",
   "pygments_lexer": "ipython3",
   "version": "3.6.0"
  }
 },
 "nbformat": 4,
 "nbformat_minor": 0
}
