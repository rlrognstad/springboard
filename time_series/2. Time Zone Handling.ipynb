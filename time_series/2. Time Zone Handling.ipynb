{
 "cells": [
  {
   "cell_type": "code",
   "execution_count": 1,
   "metadata": {
    "collapsed": true
   },
   "outputs": [],
   "source": [
    "import numpy as np\n",
    "import pandas as pd"
   ]
  },
  {
   "cell_type": "code",
   "execution_count": 3,
   "metadata": {
    "collapsed": true
   },
   "outputs": [],
   "source": [
    "rng = pd.date_range('3/6/2012 00:00', periods = 15, freq = 'D')\n",
    "rng.tz"
   ]
  },
  {
   "cell_type": "code",
   "execution_count": 4,
   "metadata": {
    "collapsed": false
   },
   "outputs": [
    {
     "data": {
      "text/plain": [
       "<DstTzInfo 'Europe/London' LMT-1 day, 23:59:00 STD>"
      ]
     },
     "execution_count": 4,
     "metadata": {},
     "output_type": "execute_result"
    }
   ],
   "source": [
    "rng_tz = pd.date_range('3/6/2012 00:00', periods = 15, freq = 'D', tz = 'Europe/London')\n",
    "rng_tz.tz"
   ]
  },
  {
   "cell_type": "code",
   "execution_count": 5,
   "metadata": {
    "collapsed": false
   },
   "outputs": [
    {
     "name": "stdout",
     "output_type": "stream",
     "text": [
      "439\n",
      "592\n",
      "{'Pacific/Ponape', 'Etc/GMT-2', 'Etc/GMT-12', 'Asia/Macao', 'GMT-0', 'Australia/West', 'Australia/North', 'ROC', 'US/Samoa', 'Asia/Ulan_Bator', 'Navajo', 'Brazil/Acre', 'EET', 'Mexico/General', 'GB-Eire', 'Etc/Zulu', 'Asia/Dacca', 'Asia/Tel_Aviv', 'Jamaica', 'Etc/GMT+7', 'Australia/South', 'Etc/GMT-5', 'Etc/GMT-9', 'Etc/GMT+1', 'NZ', 'EST', 'Iceland', 'Etc/GMT0', 'Egypt', 'Asia/Chongqing', 'Kwajalein', 'Australia/Victoria', 'PST8PDT', 'WET', 'CET', 'Eire', 'US/Indiana-Starke', 'CST6CDT', 'Etc/Universal', 'US/East-Indiana', 'Etc/Greenwich', 'Portugal', 'HST', 'Asia/Harbin', 'America/Catamarca', 'Etc/GMT+8', 'Australia/Yancowinna', 'Asia/Ashkhabad', 'America/Fort_Wayne', 'Australia/ACT', 'Africa/Timbuktu', 'Canada/Yukon', 'Asia/Katmandu', 'America/Cordoba', 'Greenwich', 'Africa/Asmera', 'Israel', 'Canada/Saskatchewan', 'Antarctica/South_Pole', 'America/Atka', 'GB', 'America/Jujuy', 'Pacific/Samoa', 'Hongkong', 'Asia/Chungking', 'Universal', 'America/Ensenada', 'GMT+0', 'Poland', 'Brazil/East', 'Etc/GMT-0', 'Atlantic/Faeroe', 'Chile/Continental', 'Iran', 'Etc/GMT-8', 'Etc/GMT-4', 'Etc/GMT-1', 'America/Shiprock', 'America/Santa_Isabel', 'EST5EDT', 'Mexico/BajaSur', 'Etc/GMT-6', 'Etc/GMT+12', 'Asia/Kashgar', 'Etc/GMT-14', 'Asia/Saigon', 'America/Mendoza', 'Australia/Tasmania', 'Etc/GMT-11', 'Etc/GMT-3', 'MET', 'Australia/Queensland', 'US/Michigan', 'NZ-CHAT', 'Asia/Ujung_Pandang', 'America/Virgin', 'America/Indianapolis', 'Etc/GMT+9', 'Japan', 'Pacific/Truk', 'Etc/GMT+4', 'Zulu', 'Etc/GMT-13', 'Etc/GMT-10', 'America/Argentina/ComodRivadavia', 'Libya', 'MST7MDT', 'Australia/Canberra', 'Mexico/BajaNorte', 'America/Coral_Harbour', 'Brazil/West', 'Pacific/Yap', 'Australia/LHI', 'Asia/Istanbul', 'Australia/NSW', 'America/Louisville', 'MST', 'America/Porto_Acre', 'US/Aleutian', 'America/Rosario', 'ROK', 'Cuba', 'US/Pacific-New', 'Etc/UCT', 'America/Montreal', 'Atlantic/Jan_Mayen', 'Asia/Thimbu', 'Etc/GMT+0', 'UCT', 'Etc/GMT-7', 'Brazil/DeNoronha', 'Chile/EasterIsland', 'PRC', 'Turkey', 'Singapore', 'Etc/UTC', 'Etc/GMT+11', 'America/Buenos_Aires', 'Asia/Calcutta', 'Etc/GMT+5', 'Etc/GMT+6', 'Canada/East-Saskatchewan', 'GMT0', 'Etc/GMT+10', 'Etc/GMT+2', 'Asia/Rangoon', 'Europe/Tiraspol', 'Etc/GMT', 'Europe/Belfast', 'Europe/Nicosia', 'Etc/GMT+3', 'W-SU', 'America/Knox_IN'}\n"
     ]
    }
   ],
   "source": [
    "from pytz import common_timezones, all_timezones\n",
    "print(len(common_timezones))\n",
    "print(len(all_timezones))\n",
    "print(set(all_timezones) - set(common_timezones))"
   ]
  },
  {
   "cell_type": "code",
   "execution_count": 6,
   "metadata": {
    "collapsed": false
   },
   "outputs": [
    {
     "data": {
      "text/plain": [
       "Timestamp('2016-07-10 08:50:00')"
      ]
     },
     "execution_count": 6,
     "metadata": {},
     "output_type": "execute_result"
    }
   ],
   "source": [
    "# You can also localize a naive timestamp\n",
    "t_naive = pd.Timestamp('2016-07-10 08:50')\n",
    "t_naive"
   ]
  },
  {
   "cell_type": "code",
   "execution_count": 7,
   "metadata": {
    "collapsed": false
   },
   "outputs": [
    {
     "data": {
      "text/plain": [
       "Timestamp('2016-07-10 08:50:00-0500', tz='US/Central')"
      ]
     },
     "execution_count": 7,
     "metadata": {},
     "output_type": "execute_result"
    }
   ],
   "source": [
    "t = t_naive.tz_localize(tz = 'US/Central')\n",
    "t"
   ]
  },
  {
   "cell_type": "code",
   "execution_count": 8,
   "metadata": {
    "collapsed": false
   },
   "outputs": [
    {
     "data": {
      "text/plain": [
       "Timestamp('2016-07-10 22:50:00+0900', tz='Asia/Tokyo')"
      ]
     },
     "execution_count": 8,
     "metadata": {},
     "output_type": "execute_result"
    }
   ],
   "source": [
    "t.tz_convert('Asia/Tokyo')"
   ]
  },
  {
   "cell_type": "code",
   "execution_count": 9,
   "metadata": {
    "collapsed": false
   },
   "outputs": [
    {
     "data": {
      "text/plain": [
       "2016-03-10 00:00:00-06:00    0\n",
       "2016-03-11 00:00:00-06:00    1\n",
       "2016-03-12 00:00:00-06:00    2\n",
       "2016-03-13 00:00:00-06:00    3\n",
       "2016-03-14 00:00:00-05:00    4\n",
       "2016-03-15 00:00:00-05:00    5\n",
       "2016-03-16 00:00:00-05:00    6\n",
       "2016-03-17 00:00:00-05:00    7\n",
       "2016-03-18 00:00:00-05:00    8\n",
       "2016-03-19 00:00:00-05:00    9\n",
       "Freq: D, dtype: int64"
      ]
     },
     "execution_count": 9,
     "metadata": {},
     "output_type": "execute_result"
    }
   ],
   "source": [
    "# how to handle daylight savings?\n",
    "rng = pd.date_range('2016-03-10', periods=10, tz='US/Central')\n",
    "ts = pd.Series(range(10), index=rng)\n",
    "ts"
   ]
  },
  {
   "cell_type": "code",
   "execution_count": 10,
   "metadata": {
    "collapsed": false
   },
   "outputs": [
    {
     "data": {
      "text/plain": [
       "2016-03-10 00:00:00+00:00    0\n",
       "2016-03-11 00:00:00+00:00    1\n",
       "2016-03-12 00:00:00+00:00    2\n",
       "2016-03-13 00:00:00+00:00    3\n",
       "2016-03-14 00:00:00+00:00    4\n",
       "2016-03-15 00:00:00+00:00    5\n",
       "2016-03-16 00:00:00+00:00    6\n",
       "2016-03-17 00:00:00+00:00    7\n",
       "2016-03-18 00:00:00+00:00    8\n",
       "2016-03-19 00:00:00+00:00    9\n",
       "Freq: D, dtype: int64"
      ]
     },
     "execution_count": 10,
     "metadata": {},
     "output_type": "execute_result"
    }
   ],
   "source": [
    "rng = pd.date_range('2016-03-10', periods=10, tz='utc')\n",
    "ts = pd.Series(range(10), index=rng)\n",
    "ts"
   ]
  },
  {
   "cell_type": "code",
   "execution_count": 11,
   "metadata": {
    "collapsed": false
   },
   "outputs": [
    {
     "data": {
      "text/plain": [
       "2016-03-09 18:00:00-06:00    0\n",
       "2016-03-10 18:00:00-06:00    1\n",
       "2016-03-11 18:00:00-06:00    2\n",
       "2016-03-12 18:00:00-06:00    3\n",
       "2016-03-13 19:00:00-05:00    4\n",
       "2016-03-14 19:00:00-05:00    5\n",
       "2016-03-15 19:00:00-05:00    6\n",
       "2016-03-16 19:00:00-05:00    7\n",
       "2016-03-17 19:00:00-05:00    8\n",
       "2016-03-18 19:00:00-05:00    9\n",
       "Freq: D, dtype: int64"
      ]
     },
     "execution_count": 11,
     "metadata": {},
     "output_type": "execute_result"
    }
   ],
   "source": [
    "ts.tz_convert('US/Central')"
   ]
  },
  {
   "cell_type": "code",
   "execution_count": 12,
   "metadata": {
    "collapsed": false
   },
   "outputs": [
    {
     "data": {
      "text/plain": [
       "DatetimeIndex(['2016-03-12 22:00:00-05:00', '2016-03-12 23:00:00-05:00',\n",
       "               '2016-03-13 00:00:00-05:00', '2016-03-13 01:00:00-05:00',\n",
       "               '2016-03-13 03:00:00-04:00', '2016-03-13 04:00:00-04:00',\n",
       "               '2016-03-13 05:00:00-04:00', '2016-03-13 06:00:00-04:00',\n",
       "               '2016-03-13 07:00:00-04:00', '2016-03-13 08:00:00-04:00',\n",
       "               '2016-03-13 09:00:00-04:00', '2016-03-13 10:00:00-04:00'],\n",
       "              dtype='datetime64[ns, US/Eastern]', freq='H')"
      ]
     },
     "execution_count": 12,
     "metadata": {},
     "output_type": "execute_result"
    }
   ],
   "source": [
    "pd.date_range('03-12-2016 22:00', periods = 12, freq = 'H', tz = 'US/Eastern')"
   ]
  },
  {
   "cell_type": "code",
   "execution_count": 13,
   "metadata": {
    "collapsed": false
   },
   "outputs": [
    {
     "data": {
      "text/plain": [
       "Timestamp('2016-03-13 03:00:00-0400', tz='US/Eastern')"
      ]
     },
     "execution_count": 13,
     "metadata": {},
     "output_type": "execute_result"
    }
   ],
   "source": [
    "# May autocorrect an error rather than giving you a non-existent time error\n",
    "pd.Timestamp('2016-03-13 02:00', tz = 'US/Eastern')"
   ]
  },
  {
   "cell_type": "code",
   "execution_count": null,
   "metadata": {
    "collapsed": true
   },
   "outputs": [],
   "source": []
  }
 ],
 "metadata": {
  "kernelspec": {
   "display_name": "Python 3",
   "language": "python",
   "name": "python3"
  },
  "language_info": {
   "codemirror_mode": {
    "name": "ipython",
    "version": 3
   },
   "file_extension": ".py",
   "mimetype": "text/x-python",
   "name": "python",
   "nbconvert_exporter": "python",
   "pygments_lexer": "ipython3",
   "version": "3.6.0"
  }
 },
 "nbformat": 4,
 "nbformat_minor": 0
}
