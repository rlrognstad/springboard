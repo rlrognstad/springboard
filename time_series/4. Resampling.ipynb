{
 "cells": [
  {
   "cell_type": "code",
   "execution_count": 1,
   "metadata": {
    "collapsed": true
   },
   "outputs": [],
   "source": [
    "import pandas as pd\n",
    "import numpy as np"
   ]
  },
  {
   "cell_type": "code",
   "execution_count": 2,
   "metadata": {
    "collapsed": true
   },
   "outputs": [],
   "source": [
    "rng = pd.date_range('1/1/2011', periods=72, freq='H')\n",
    "ts = pd.Series(np.random.randn(len(rng)), index=rng)"
   ]
  },
  {
   "cell_type": "code",
   "execution_count": 3,
   "metadata": {
    "collapsed": true
   },
   "outputs": [],
   "source": [
    "converted = ts.asfreq('45Min', method='pad')"
   ]
  },
  {
   "cell_type": "code",
   "execution_count": 6,
   "metadata": {
    "collapsed": false
   },
   "outputs": [
    {
     "name": "stdout",
     "output_type": "stream",
     "text": [
      "72\n",
      "95\n"
     ]
    }
   ],
   "source": [
    "# Does asfreq change the # of rows?\n",
    "print(len(ts))\n",
    "print(len(converted))\n",
    "\n",
    "#yes, the number of rows changes"
   ]
  },
  {
   "cell_type": "code",
   "execution_count": 7,
   "metadata": {
    "collapsed": false
   },
   "outputs": [
    {
     "data": {
      "text/plain": [
       "2011-01-01 00:00:00    0.091640\n",
       "2011-01-01 00:45:00    0.091640\n",
       "2011-01-01 01:30:00   -0.821269\n",
       "2011-01-01 02:15:00    0.377312\n",
       "2011-01-01 03:00:00   -0.021132\n",
       "2011-01-01 03:45:00   -0.021132\n",
       "2011-01-01 04:30:00    0.329495\n",
       "2011-01-01 05:15:00    0.050558\n",
       "2011-01-01 06:00:00   -0.896154\n",
       "2011-01-01 06:45:00   -0.896154\n",
       "Freq: 45T, dtype: float64"
      ]
     },
     "execution_count": 7,
     "metadata": {},
     "output_type": "execute_result"
    }
   ],
   "source": [
    "# What do the different methods do?\n",
    "# method : {‘backfill’, ‘bfill’, ‘pad’, ‘ffill’, None}\n",
    "\n",
    "converted.head(10)\n",
    "\n",
    "#‘pad’ / ‘ffill’: propagate last valid observation forward to next valid\n",
    "#‘backfill’ / ‘bfill’: use NEXT valid observation to fill"
   ]
  },
  {
   "cell_type": "code",
   "execution_count": 8,
   "metadata": {
    "collapsed": false
   },
   "outputs": [
    {
     "data": {
      "text/plain": [
       "2011-01-01 00:00:00    0.091640\n",
       "2011-01-01 01:00:00   -0.821269\n",
       "2011-01-01 02:00:00    0.377312\n",
       "2011-01-01 03:00:00   -0.021132\n",
       "2011-01-01 04:00:00    0.329495\n",
       "2011-01-01 05:00:00    0.050558\n",
       "2011-01-01 06:00:00   -0.896154\n",
       "2011-01-01 07:00:00   -0.309721\n",
       "2011-01-01 08:00:00    0.537272\n",
       "2011-01-01 09:00:00    1.111067\n",
       "Freq: H, dtype: float64"
      ]
     },
     "execution_count": 8,
     "metadata": {},
     "output_type": "execute_result"
    }
   ],
   "source": [
    "ts.head(10)"
   ]
  },
  {
   "cell_type": "code",
   "execution_count": 9,
   "metadata": {
    "collapsed": false
   },
   "outputs": [],
   "source": [
    "# Might any of these methods have pitfalls from a logical point of view?\n",
    "\n",
    "#it would depend on the question and type of data whether back or forward filling would make the most sense.  Edge cases may be different"
   ]
  },
  {
   "cell_type": "code",
   "execution_count": null,
   "metadata": {
    "collapsed": true
   },
   "outputs": [],
   "source": [
    "# What's the difference between going to a higher frequency and a lower frequency?\n",
    "\n",
    "# a higher frequency increases the number of rows, a lower frequencey decreases the number of rows"
   ]
  },
  {
   "cell_type": "code",
   "execution_count": 11,
   "metadata": {
    "collapsed": false
   },
   "outputs": [
    {
     "data": {
      "text/plain": [
       "2011-01-01 00:00:00    0.091640\n",
       "2011-01-01 01:30:00    0.377312\n",
       "2011-01-01 03:00:00   -0.021132\n",
       "2011-01-01 04:30:00    0.050558\n",
       "2011-01-01 06:00:00   -0.896154\n",
       "2011-01-01 07:30:00    0.537272\n",
       "2011-01-01 09:00:00    1.111067\n",
       "2011-01-01 10:30:00    0.973911\n",
       "2011-01-01 12:00:00    1.026247\n",
       "2011-01-01 13:30:00   -0.907089\n",
       "Freq: 90T, dtype: float64"
      ]
     },
     "execution_count": 11,
     "metadata": {},
     "output_type": "execute_result"
    }
   ],
   "source": [
    "converted = ts.asfreq('90Min', method = 'bfill')\n",
    "converted.head(10)"
   ]
  },
  {
   "cell_type": "code",
   "execution_count": null,
   "metadata": {
    "collapsed": true
   },
   "outputs": [],
   "source": [
    "# What's different logically about going to a higher frequency vs a lower frequency? \n",
    "# What do you want to do when switching to a lower freqeuncy that is not logical when switching to a higher frequency?"
   ]
  },
  {
   "cell_type": "code",
   "execution_count": 12,
   "metadata": {
    "collapsed": false
   },
   "outputs": [
    {
     "data": {
      "text/plain": [
       "2011-01-01    3.587042\n",
       "2011-01-02    1.659671\n",
       "2011-01-03    3.472104\n",
       "Freq: D, dtype: float64"
      ]
     },
     "execution_count": 12,
     "metadata": {},
     "output_type": "execute_result"
    }
   ],
   "source": [
    "ts.resample('D').sum()"
   ]
  },
  {
   "cell_type": "code",
   "execution_count": null,
   "metadata": {
    "collapsed": true
   },
   "outputs": [],
   "source": [
    "# What if you want to downsample and you don't want to ffill or bfill?\n",
    "#you can use resampling and then interpolate the missing values"
   ]
  },
  {
   "cell_type": "code",
   "execution_count": null,
   "metadata": {
    "collapsed": true
   },
   "outputs": [],
   "source": [
    "# What is the difference between .resample() and .asfreq()?\n",
    "\n",
    "#.resample() is more general than .asfreq().  .resample() can be used to calculate summary statistics, \n",
    "# while .asfreq() is really just used to adjust the frequency and for fill in values"
   ]
  },
  {
   "cell_type": "code",
   "execution_count": null,
   "metadata": {
    "collapsed": true
   },
   "outputs": [],
   "source": [
    "# What are some special things you can do with .resample() you can't do with .asfreq()?\n",
    "\n",
    "# .reseample() can be used to calculate summary statistics\n"
   ]
  },
  {
   "cell_type": "code",
   "execution_count": null,
   "metadata": {
    "collapsed": true
   },
   "outputs": [],
   "source": []
  }
 ],
 "metadata": {
  "kernelspec": {
   "display_name": "Python 3",
   "language": "python",
   "name": "python3"
  },
  "language_info": {
   "codemirror_mode": {
    "name": "ipython",
    "version": 3
   },
   "file_extension": ".py",
   "mimetype": "text/x-python",
   "name": "python",
   "nbconvert_exporter": "python",
   "pygments_lexer": "ipython3",
   "version": "3.6.0"
  }
 },
 "nbformat": 4,
 "nbformat_minor": 0
}
